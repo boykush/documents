{
  "nbformat": 4,
  "nbformat_minor": 0,
  "metadata": {
    "colab": {
      "name": "model.ipynb",
      "provenance": [],
      "authorship_tag": "ABX9TyPilofrJkdLWnw6/cYqXVGT",
      "include_colab_link": true
    },
    "kernelspec": {
      "name": "python3",
      "display_name": "Python 3"
    }
  },
  "cells": [
    {
      "cell_type": "markdown",
      "metadata": {
        "id": "view-in-github",
        "colab_type": "text"
      },
      "source": [
        "<a href=\"https://colab.research.google.com/github/taichi0315/optimization-handson/blob/master/sample/model.ipynb\" target=\"_parent\"><img src=\"https://colab.research.google.com/assets/colab-badge.svg\" alt=\"Open In Colab\"/></a>"
      ]
    },
    {
      "cell_type": "markdown",
      "metadata": {
        "id": "h8d73Ez2GtXA",
        "colab_type": "text"
      },
      "source": [
        "# 数理最適化ハンズオン\n"
      ]
    },
    {
      "cell_type": "markdown",
      "metadata": {
        "id": "LGrCcafkG8qM",
        "colab_type": "text"
      },
      "source": [
        "## 環境構築"
      ]
    },
    {
      "cell_type": "code",
      "metadata": {
        "id": "5wQhqGbqHEjO",
        "colab_type": "code",
        "colab": {
          "base_uri": "https://localhost:8080/",
          "height": 306
        },
        "outputId": "d1faa3d1-6e26-47b2-afda-fb858844050c"
      },
      "source": [
        "!pip install pulp"
      ],
      "execution_count": 2,
      "outputs": [
        {
          "output_type": "stream",
          "text": [
            "Collecting pulp\n",
            "\u001b[?25l  Downloading https://files.pythonhosted.org/packages/16/c8/cdb6e4c47c775e837f6f1a26162963440b7f9d47d01dcb92ce712d5eecb9/PuLP-2.2-py3-none-any.whl (40.6MB)\n",
            "\u001b[K     |████████████████████████████████| 40.6MB 114kB/s \n",
            "\u001b[?25hCollecting amply>=0.1.2\n",
            "  Downloading https://files.pythonhosted.org/packages/7f/11/33cb09557ac838d9488779b79e05a2a3c1f3ce9747cd242ba68332736778/amply-0.1.2.tar.gz\n",
            "  Installing build dependencies ... \u001b[?25l\u001b[?25hdone\n",
            "  Getting requirements to build wheel ... \u001b[?25l\u001b[?25hdone\n",
            "    Preparing wheel metadata ... \u001b[?25l\u001b[?25hdone\n",
            "Requirement already satisfied: docutils>=0.3 in /usr/local/lib/python3.6/dist-packages (from amply>=0.1.2->pulp) (0.15.2)\n",
            "Requirement already satisfied: pyparsing in /usr/local/lib/python3.6/dist-packages (from amply>=0.1.2->pulp) (2.4.7)\n",
            "Building wheels for collected packages: amply\n",
            "  Building wheel for amply (PEP 517) ... \u001b[?25l\u001b[?25hdone\n",
            "  Created wheel for amply: filename=amply-0.1.2-cp36-none-any.whl size=16572 sha256=64364a3d833efea42ebae48b2375188ce1d2957767adf1c94af4098a89717de2\n",
            "  Stored in directory: /root/.cache/pip/wheels/84/18/f7/e5c3ed13ed5bb721763f77d4a924331d59ef115ce61c9d26eb\n",
            "Successfully built amply\n",
            "Installing collected packages: amply, pulp\n",
            "Successfully installed amply-0.1.2 pulp-2.2\n"
          ],
          "name": "stdout"
        }
      ]
    },
    {
      "cell_type": "code",
      "metadata": {
        "id": "JOOPNmtaH6X1",
        "colab_type": "code",
        "colab": {}
      },
      "source": [
        "from pulp import *"
      ],
      "execution_count": 3,
      "outputs": []
    },
    {
      "cell_type": "markdown",
      "metadata": {
        "id": "uR8o55MJHWu3",
        "colab_type": "text"
      },
      "source": [
        "## 集合\n",
        "モデルを構成する要素・物体の集まり\n",
        "\n",
        "- 職員\n",
        "- シフト日付"
      ]
    },
    {
      "cell_type": "code",
      "metadata": {
        "id": "6NsWFXOYIFql",
        "colab_type": "code",
        "colab": {}
      },
      "source": [
        "# Set\n",
        "Employee = { \"emp1\", \"emp2\", \"emp3\" }\n",
        "Day       = { 1, 2, 3, 4, 5 }"
      ],
      "execution_count": 4,
      "outputs": []
    },
    {
      "cell_type": "code",
      "metadata": {
        "id": "E2ws_q06NT-x",
        "colab_type": "code",
        "colab": {
          "base_uri": "https://localhost:8080/",
          "height": 34
        },
        "outputId": "63c95f56-1200-45de-a9c3-31cbf211cc95"
      },
      "source": [
        "print(Employee)"
      ],
      "execution_count": 5,
      "outputs": [
        {
          "output_type": "stream",
          "text": [
            "{'emp3', 'emp1', 'emp2'}\n"
          ],
          "name": "stdout"
        }
      ]
    },
    {
      "cell_type": "markdown",
      "metadata": {
        "id": "GalybSQpKUvt",
        "colab_type": "text"
      },
      "source": [
        "## 変数\n",
        "最適化をして求めたい値。最適解が求まると変数が最適値として定まる。\n",
        "\n",
        "- 保育士$e$が日付$d$に出勤するかどうか（0-1変数）\n",
        "- 保育士$e$が超過ペナルティ日数を超過した日数\n",
        "\n"
      ]
    },
    {
      "cell_type": "code",
      "metadata": {
        "id": "DFYFxIhpHIde",
        "colab_type": "code",
        "colab": {}
      },
      "source": [
        "# Variable\n",
        "x = {}\n",
        "for emp in Employee:\n",
        "    for day in Day:\n",
        "        x[emp, day] = LpVariable(name=f\"x_{emp}_{day}\", cat=\"Binary\") \n",
        "\n",
        "xp = {}\n",
        "for emp in Employee:\n",
        "    xp[emp] = LpVariable(name=f\"xp_{emp}\", lowBound=0, cat=\"Continuous\")"
      ],
      "execution_count": 14,
      "outputs": []
    },
    {
      "cell_type": "code",
      "metadata": {
        "id": "fD3D1vrmNSWF",
        "colab_type": "code",
        "colab": {
          "base_uri": "https://localhost:8080/",
          "height": 34
        },
        "outputId": "15f02670-416a-40eb-f161-43f736e660cc"
      },
      "source": [
        "print(xp)"
      ],
      "execution_count": 15,
      "outputs": [
        {
          "output_type": "stream",
          "text": [
            "{'emp3': xp_emp3, 'emp1': xp_emp1, 'emp2': xp_emp2}\n"
          ],
          "name": "stdout"
        }
      ]
    },
    {
      "cell_type": "markdown",
      "metadata": {
        "id": "RhOOmNmaH3i2",
        "colab_type": "text"
      },
      "source": [
        "## モデルの作成"
      ]
    },
    {
      "cell_type": "code",
      "metadata": {
        "id": "50LOH_ZJHnCr",
        "colab_type": "code",
        "colab": {}
      },
      "source": [
        "model = LpProblem(sense=LpMinimize)"
      ],
      "execution_count": null,
      "outputs": []
    },
    {
      "cell_type": "markdown",
      "metadata": {
        "id": "e5XWGISZPBhX",
        "colab_type": "text"
      },
      "source": [
        "## 制約\n",
        "求解する上で必ず守る制約条件\n",
        "\n",
        "- 職員の最低配置人数"
      ]
    },
    {
      "cell_type": "code",
      "metadata": {
        "id": "CaB8RslWPU1u",
        "colab_type": "code",
        "colab": {}
      },
      "source": [
        "for day in Day:\n",
        "    model.addConstraint(\n",
        "        lpSum(x[emp, day] for emp in Employee)\n",
        "        >=\n",
        "        2\n",
        "    )\n",
        "\n",
        "for emp in Employee:\n",
        "    model.addConstraint(\n",
        "        xp[emp]\n",
        "        ==\n",
        "        lpSum(x[emp, day] for day in Day) - 3\n",
        "    )"
      ],
      "execution_count": null,
      "outputs": []
    },
    {
      "cell_type": "markdown",
      "metadata": {
        "id": "QF1tjghMRrU_",
        "colab_type": "text"
      },
      "source": [
        "## 目的関数\n",
        "\n",
        "何を最小化・最大化したいかを表す、最適化の目的となる関数\n",
        "\n",
        "- 何日以上出勤したらペナルティ\n",
        "- ペナルティの合計を最小化したい"
      ]
    },
    {
      "cell_type": "code",
      "metadata": {
        "id": "U0fwaOWqScrT",
        "colab_type": "code",
        "colab": {}
      },
      "source": [
        "model += lpDot([xp[emp] for emp in Employee], [3] * len(Employee))"
      ],
      "execution_count": null,
      "outputs": []
    },
    {
      "cell_type": "markdown",
      "metadata": {
        "id": "9vagjo1mOrAS",
        "colab_type": "text"
      },
      "source": [
        "## 求解"
      ]
    },
    {
      "cell_type": "code",
      "metadata": {
        "id": "xLHY70-yNjlY",
        "colab_type": "code",
        "colab": {
          "base_uri": "https://localhost:8080/",
          "height": 34
        },
        "outputId": "8bd1d8a1-97bd-4eca-eef3-e19487112a9a"
      },
      "source": [
        "status = model.solve()\n",
        "print(LpStatus[status])"
      ],
      "execution_count": null,
      "outputs": [
        {
          "output_type": "stream",
          "text": [
            "Optimal\n"
          ],
          "name": "stdout"
        }
      ]
    },
    {
      "cell_type": "code",
      "metadata": {
        "id": "i23e1lAZN_ZH",
        "colab_type": "code",
        "colab": {
          "base_uri": "https://localhost:8080/",
          "height": 272
        },
        "outputId": "7acc9720-ce11-49f0-e6a7-42365b3b3d10"
      },
      "source": [
        "for emp, day in x:\n",
        "    print(emp, day, x[emp, day].value())"
      ],
      "execution_count": null,
      "outputs": [
        {
          "output_type": "stream",
          "text": [
            "emp1 1 0.0\n",
            "emp1 2 1.0\n",
            "emp1 3 1.0\n",
            "emp1 4 0.0\n",
            "emp1 5 1.0\n",
            "emp2 1 1.0\n",
            "emp2 2 1.0\n",
            "emp2 3 1.0\n",
            "emp2 4 1.0\n",
            "emp2 5 0.0\n",
            "emp3 1 1.0\n",
            "emp3 2 0.0\n",
            "emp3 3 0.0\n",
            "emp3 4 1.0\n",
            "emp3 5 1.0\n"
          ],
          "name": "stdout"
        }
      ]
    },
    {
      "cell_type": "code",
      "metadata": {
        "id": "MM5bYf1TOU66",
        "colab_type": "code",
        "colab": {
          "base_uri": "https://localhost:8080/",
          "height": 68
        },
        "outputId": "95bf1caf-20d8-41a8-f881-a59fb0b035a6"
      },
      "source": [
        "for emp in Employee:\n",
        "    print(xp[emp].value())"
      ],
      "execution_count": null,
      "outputs": [
        {
          "output_type": "stream",
          "text": [
            "0.0\n",
            "1.0\n",
            "0.0\n"
          ],
          "name": "stdout"
        }
      ]
    },
    {
      "cell_type": "code",
      "metadata": {
        "id": "mjQ8sBGQaiyR",
        "colab_type": "code",
        "colab": {}
      },
      "source": [
        ""
      ],
      "execution_count": null,
      "outputs": []
    }
  ]
}