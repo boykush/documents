{
  "nbformat": 4,
  "nbformat_minor": 0,
  "metadata": {
    "colab": {
      "name": "model.ipynb",
      "provenance": [],
      "authorship_tag": "ABX9TyOuwVDLntiPWtAnhVyRHucY",
      "include_colab_link": true
    },
    "kernelspec": {
      "name": "python3",
      "display_name": "Python 3"
    }
  },
  "cells": [
    {
      "cell_type": "markdown",
      "metadata": {
        "id": "view-in-github",
        "colab_type": "text"
      },
      "source": [
        "<a href=\"https://colab.research.google.com/github/taichi0315/optimization-handson/blob/master/sample/model.ipynb\" target=\"_parent\"><img src=\"https://colab.research.google.com/assets/colab-badge.svg\" alt=\"Open In Colab\"/></a>"
      ]
    },
    {
      "cell_type": "markdown",
      "metadata": {
        "id": "h8d73Ez2GtXA",
        "colab_type": "text"
      },
      "source": [
        "# 数理最適化ハンズオン\n"
      ]
    },
    {
      "cell_type": "markdown",
      "metadata": {
        "id": "fsuIbuQVG4xp",
        "colab_type": "text"
      },
      "source": [
        "## 数理最適化の概要"
      ]
    },
    {
      "cell_type": "markdown",
      "metadata": {
        "id": "LGrCcafkG8qM",
        "colab_type": "text"
      },
      "source": [
        "## 環境構築"
      ]
    },
    {
      "cell_type": "code",
      "metadata": {
        "id": "5wQhqGbqHEjO",
        "colab_type": "code",
        "colab": {
          "base_uri": "https://localhost:8080/",
          "height": 326
        },
        "outputId": "d76aa0d5-b2f7-4372-ece4-aacb92f8612c"
      },
      "source": [
        "!pip install pulp"
      ],
      "execution_count": 1,
      "outputs": [
        {
          "output_type": "stream",
          "text": [
            "Collecting pulp\n",
            "\u001b[?25l  Downloading https://files.pythonhosted.org/packages/16/c8/cdb6e4c47c775e837f6f1a26162963440b7f9d47d01dcb92ce712d5eecb9/PuLP-2.2-py3-none-any.whl (40.6MB)\n",
            "\u001b[K     |████████████████████████████████| 40.6MB 93kB/s \n",
            "\u001b[?25hCollecting amply>=0.1.2\n",
            "  Downloading https://files.pythonhosted.org/packages/7f/11/33cb09557ac838d9488779b79e05a2a3c1f3ce9747cd242ba68332736778/amply-0.1.2.tar.gz\n",
            "  Installing build dependencies ... \u001b[?25l\u001b[?25hdone\n",
            "  Getting requirements to build wheel ... \u001b[?25l\u001b[?25hdone\n",
            "    Preparing wheel metadata ... \u001b[?25l\u001b[?25hdone\n",
            "Requirement already satisfied: pyparsing in /usr/local/lib/python3.6/dist-packages (from amply>=0.1.2->pulp) (2.4.7)\n",
            "Requirement already satisfied: docutils>=0.3 in /usr/local/lib/python3.6/dist-packages (from amply>=0.1.2->pulp) (0.15.2)\n",
            "Building wheels for collected packages: amply\n",
            "  Building wheel for amply (PEP 517) ... \u001b[?25l\u001b[?25hdone\n",
            "  Created wheel for amply: filename=amply-0.1.2-cp36-none-any.whl size=16572 sha256=3c7b5ab458f6d1bb69cfd614c0a745c155514d166d505f201c3602ad057fe516\n",
            "  Stored in directory: /root/.cache/pip/wheels/84/18/f7/e5c3ed13ed5bb721763f77d4a924331d59ef115ce61c9d26eb\n",
            "Successfully built amply\n",
            "Installing collected packages: amply, pulp\n",
            "Successfully installed amply-0.1.2 pulp-2.2\n"
          ],
          "name": "stdout"
        }
      ]
    },
    {
      "cell_type": "markdown",
      "metadata": {
        "id": "P2LhC7o0HzHb",
        "colab_type": "text"
      },
      "source": [
        "## ハンズオン"
      ]
    },
    {
      "cell_type": "code",
      "metadata": {
        "id": "JOOPNmtaH6X1",
        "colab_type": "code",
        "colab": {}
      },
      "source": [
        "from pulp import *"
      ],
      "execution_count": 3,
      "outputs": []
    },
    {
      "cell_type": "markdown",
      "metadata": {
        "id": "uR8o55MJHWu3",
        "colab_type": "text"
      },
      "source": [
        "### 集合\n",
        "モデルを構成する要素・物体の集まり\n",
        "\n",
        "- 職員\n",
        "- シフト日付"
      ]
    },
    {
      "cell_type": "code",
      "metadata": {
        "id": "6NsWFXOYIFql",
        "colab_type": "code",
        "colab": {}
      },
      "source": [
        "# Set\n",
        "Employee = { \"emp1\", \"emp2\", \"emp3\" }\n",
        "Day       = { 1, 2, 3, 4, 5 }"
      ],
      "execution_count": 10,
      "outputs": []
    },
    {
      "cell_type": "code",
      "metadata": {
        "id": "E2ws_q06NT-x",
        "colab_type": "code",
        "colab": {
          "base_uri": "https://localhost:8080/",
          "height": 34
        },
        "outputId": "41023f31-15e8-4c66-ed07-2d870dc836f4"
      },
      "source": [
        "print(Employee)"
      ],
      "execution_count": 13,
      "outputs": [
        {
          "output_type": "stream",
          "text": [
            "{'emp1', 'emp2', 'emp3'}\n"
          ],
          "name": "stdout"
        }
      ]
    },
    {
      "cell_type": "markdown",
      "metadata": {
        "id": "RhOOmNmaH3i2",
        "colab_type": "text"
      },
      "source": [
        "### モデルの作成"
      ]
    },
    {
      "cell_type": "code",
      "metadata": {
        "id": "50LOH_ZJHnCr",
        "colab_type": "code",
        "colab": {}
      },
      "source": [
        "model = LpProblem()"
      ],
      "execution_count": 33,
      "outputs": []
    },
    {
      "cell_type": "markdown",
      "metadata": {
        "id": "GalybSQpKUvt",
        "colab_type": "text"
      },
      "source": [
        "### 変数の定義\n",
        "最適化をして求めたい値。最適解が求まると変数が最適値として定まる。\n",
        "\n",
        "- 保育士$e$が日付$d$に出勤するかどうか（0-1変数）\n",
        "\n"
      ]
    },
    {
      "cell_type": "code",
      "metadata": {
        "id": "DFYFxIhpHIde",
        "colab_type": "code",
        "colab": {}
      },
      "source": [
        "x = {}\n",
        "for emp in Employee:\n",
        "    for day in Day:\n",
        "        x[emp, day] = LpVariable(name=f\"x[{emp}, {day}]\", cat=\"Binary\")   "
      ],
      "execution_count": 34,
      "outputs": []
    },
    {
      "cell_type": "code",
      "metadata": {
        "id": "fD3D1vrmNSWF",
        "colab_type": "code",
        "colab": {
          "base_uri": "https://localhost:8080/",
          "height": 54
        },
        "outputId": "5458ba31-0770-404c-c3b2-018b276193eb"
      },
      "source": [
        "print(x)"
      ],
      "execution_count": 35,
      "outputs": [
        {
          "output_type": "stream",
          "text": [
            "{('emp1', 1): x_emp1,_1_, ('emp1', 2): x_emp1,_2_, ('emp1', 3): x_emp1,_3_, ('emp1', 4): x_emp1,_4_, ('emp1', 5): x_emp1,_5_, ('emp2', 1): x_emp2,_1_, ('emp2', 2): x_emp2,_2_, ('emp2', 3): x_emp2,_3_, ('emp2', 4): x_emp2,_4_, ('emp2', 5): x_emp2,_5_, ('emp3', 1): x_emp3,_1_, ('emp3', 2): x_emp3,_2_, ('emp3', 3): x_emp3,_3_, ('emp3', 4): x_emp3,_4_, ('emp3', 5): x_emp3,_5_}\n"
          ],
          "name": "stdout"
        }
      ]
    },
    {
      "cell_type": "markdown",
      "metadata": {
        "id": "9vagjo1mOrAS",
        "colab_type": "text"
      },
      "source": [
        "### 求解"
      ]
    },
    {
      "cell_type": "code",
      "metadata": {
        "id": "xLHY70-yNjlY",
        "colab_type": "code",
        "colab": {
          "base_uri": "https://localhost:8080/",
          "height": 34
        },
        "outputId": "f04a8df8-f625-4593-bb0b-38e6f3e76d54"
      },
      "source": [
        "model.solve()"
      ],
      "execution_count": 39,
      "outputs": [
        {
          "output_type": "execute_result",
          "data": {
            "text/plain": [
              "1"
            ]
          },
          "metadata": {
            "tags": []
          },
          "execution_count": 39
        }
      ]
    },
    {
      "cell_type": "code",
      "metadata": {
        "id": "i23e1lAZN_ZH",
        "colab_type": "code",
        "colab": {
          "base_uri": "https://localhost:8080/",
          "height": 272
        },
        "outputId": "d8145e9e-afc7-4827-dee3-8c60835f90c2"
      },
      "source": [
        "for emp,day in x:\n",
        "    print(x[emp, day].value())"
      ],
      "execution_count": 40,
      "outputs": [
        {
          "output_type": "stream",
          "text": [
            "None\n",
            "None\n",
            "None\n",
            "None\n",
            "None\n",
            "None\n",
            "None\n",
            "None\n",
            "None\n",
            "None\n",
            "None\n",
            "None\n",
            "None\n",
            "None\n",
            "None\n"
          ],
          "name": "stdout"
        }
      ]
    },
    {
      "cell_type": "code",
      "metadata": {
        "id": "MM5bYf1TOU66",
        "colab_type": "code",
        "colab": {}
      },
      "source": [
        ""
      ],
      "execution_count": 38,
      "outputs": []
    }
  ]
}